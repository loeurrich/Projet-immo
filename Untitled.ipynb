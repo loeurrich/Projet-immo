{
 "cells": [
  {
   "cell_type": "code",
   "execution_count": 2,
   "metadata": {},
   "outputs": [
    {
     "name": "stdout",
     "output_type": "stream",
     "text": [
      "['https://www.seloger.com/immobilier/locations/immo-paris-75/bien-appartement/?LISTING-LISTpg=1', 'https://www.seloger.com/immobilier/locations/immo-paris-75/bien-appartement/?LISTING-LISTpg=2']\n"
     ]
    }
   ],
   "source": [
    "from selenium import webdriver\n",
    "from bs4 import BeautifulSoup\n",
    "import pandas as pd\n",
    "import itertools as it\n",
    "import requests\n",
    "import re\n",
    "from fake_useragent import UserAgent\n",
    "\n",
    "options = webdriver.ChromeOptions()\n",
    "options.add_argument('--ignore-certificate-errors')\n",
    "options.add_argument('--incognito')\n",
    "options.add_argument('--headless')\n",
    "#driver = webdriver.Chrome(\"C:\\webdrivers\", chrome_options=options)\n",
    "driver = webdriver.Chrome(executable_path=r'C:/webdrivers/chromedriver.exe')\n",
    "\n",
    "\n",
    "token = \"https://www.seloger.com/immobilier/locations/immo-paris-75/bien-appartement/?LISTING-LISTpg=\"\n",
    "\n",
    "def get_pages(token, nb):\n",
    "    pages = []\n",
    "    for i in range(1,nb+1):\n",
    "        j = token + str(i)\n",
    "        pages.append(j)\n",
    "    return pages\n",
    "\n",
    "pages = get_pages(token,2)\n",
    "print(pages)\n",
    "proxies = pd.read_csv('proxy_list.txt', header = None)\n",
    "proxies = proxies.values.tolist()\n",
    "proxies = list(it.chain.from_iterable(proxies))\n",
    "\n",
    "def get_info (pages,proxies) : \n",
    "    \n",
    "    parameters = ['data-prix','data-idannonce','data-nb_chambres','data-nb_pieces','data-surface']\n",
    "    df = pd.DataFrame(columns =parameters,index=None)\n",
    "    ua = UserAgent()\n",
    "    proxy_pool = it.cycle(proxies)\n",
    "    \n",
    "    while len(pages) >= 0:\n",
    "        for i in pages :\n",
    "            # on lit les pages une par une et on initialise une table vide pour ranger les données d'une page     \n",
    "                df_f = pd.DataFrame()\n",
    "            # itération dans un liste de proxies    \n",
    "                proxy = next(proxy_pool)\n",
    "\n",
    "                \n",
    "                #response = requests.get(i,proxies={\"http\": proxy, \"https\": proxy}, headers={'User-Agent': ua.random},timeout=5)\n",
    "                #time.sleep(random.randrange(1,5))\n",
    "\n",
    "                #chrome_options = change_proxy (proxy)\n",
    "                #driver = webdriver.Chrome(options=chrome_options)\n",
    "\n",
    "                driver.get(i)\n",
    "\n",
    "                html_page = driver.page_source\n",
    "                soup = BeautifulSoup(html_page)\n",
    "                #print(soup.prettify())\n",
    "\n",
    "\n",
    "                for elem_prix,elem in itertools.zip_longest(soup.find_all('div', class_=re.compile(\"Price__Label-sc-1g9fitq-1\"))\\\n",
    "                                        ,soup.find_all('ul', class_=re.compile(\"ContentZone__Tags-wghbmy-8\"))):\n",
    "                    print(\"tag success\")\n",
    "                    try :\n",
    "                        l = []\n",
    "                        info = soup.find_all ('li')\n",
    "                        info_text=elem.text\n",
    "                        print(info_text)\n",
    "\n",
    "                        print(\"tag success\")\n",
    "                        if ('ch' in info_text) and ('m²' in info_text) and ('p' in info_text):\n",
    "\n",
    "                            result = re.search('ch(.*)m²', info_text)\n",
    "                            num_m = result.group(1).strip()\n",
    "                            print (\"nbre de m² : \"+num_m+'m²')\n",
    "\n",
    "                            result = re.search('p(.*)ch', info_text)\n",
    "                            num_ch = result.group(1).strip()\n",
    "                            print (\"nbre de chambres : \"+num_ch)\n",
    "\n",
    "                            split = info_text.split(\"p\");\n",
    "                            num_piece = split[0];\n",
    "                            print (\"nbre de pièces : \"+num_piece)\n",
    "\n",
    "                            df = df.append({'data-prix': elem_prix.text, 'data-idannonce': 0, \\\n",
    "                                            'data-nb_chambres': num_ch, 'data-nb_pieces' : num_piece,'data-surface' : num_m},ignore_index=True)\n",
    "\n",
    "                        else : \n",
    "                            print('no info')\n",
    "                    except : \n",
    "                        print(\"data retreived fail\")\n",
    "                        pass\n",
    "\n",
    "\n",
    "                pages.remove(i)\n",
    "                print(\"sucessufully removed\")\n",
    "\n",
    "                    \n",
    "        \n",
    "        \n",
    "    return df"
   ]
  },
  {
   "cell_type": "code",
   "execution_count": 3,
   "metadata": {},
   "outputs": [
    {
     "ename": "NameError",
     "evalue": "name 'itertools' is not defined",
     "output_type": "error",
     "traceback": [
      "\u001b[1;31m---------------------------------------------------------------------------\u001b[0m",
      "\u001b[1;31mNameError\u001b[0m                                 Traceback (most recent call last)",
      "\u001b[1;32m<ipython-input-3-32273142c01d>\u001b[0m in \u001b[0;36m<module>\u001b[1;34m\u001b[0m\n\u001b[1;32m----> 1\u001b[1;33m \u001b[0mdf_final\u001b[0m\u001b[1;33m=\u001b[0m\u001b[0mget_info\u001b[0m \u001b[1;33m(\u001b[0m\u001b[0mpages\u001b[0m\u001b[1;33m,\u001b[0m\u001b[0mproxies\u001b[0m\u001b[1;33m)\u001b[0m\u001b[1;33m\u001b[0m\u001b[1;33m\u001b[0m\u001b[0m\n\u001b[0m",
      "\u001b[1;32m<ipython-input-2-731a7868abfe>\u001b[0m in \u001b[0;36mget_info\u001b[1;34m(pages, proxies)\u001b[0m\n\u001b[0;32m     58\u001b[0m \u001b[1;33m\u001b[0m\u001b[0m\n\u001b[0;32m     59\u001b[0m \u001b[1;33m\u001b[0m\u001b[0m\n\u001b[1;32m---> 60\u001b[1;33m                 for elem_prix,elem in itertools.zip_longest(soup.find_all('div', class_=re.compile(\"Price__Label-sc-1g9fitq-1\"))\\\n\u001b[0m\u001b[0;32m     61\u001b[0m                                         ,soup.find_all('ul', class_=re.compile(\"ContentZone__Tags-wghbmy-8\"))):\n\u001b[0;32m     62\u001b[0m                     \u001b[0mprint\u001b[0m\u001b[1;33m(\u001b[0m\u001b[1;34m\"tag success\"\u001b[0m\u001b[1;33m)\u001b[0m\u001b[1;33m\u001b[0m\u001b[1;33m\u001b[0m\u001b[0m\n",
      "\u001b[1;31mNameError\u001b[0m: name 'itertools' is not defined"
     ]
    }
   ],
   "source": [
    "df_final=get_info (pages,proxies)"
   ]
  },
  {
   "cell_type": "code",
   "execution_count": null,
   "metadata": {},
   "outputs": [],
   "source": []
  }
 ],
 "metadata": {
  "kernelspec": {
   "display_name": "Python 3",
   "language": "python",
   "name": "python3"
  },
  "language_info": {
   "codemirror_mode": {
    "name": "ipython",
    "version": 3
   },
   "file_extension": ".py",
   "mimetype": "text/x-python",
   "name": "python",
   "nbconvert_exporter": "python",
   "pygments_lexer": "ipython3",
   "version": "3.7.1"
  }
 },
 "nbformat": 4,
 "nbformat_minor": 2
}

{
 "cells": [
  {
   "cell_type": "code",
   "execution_count": null,
   "metadata": {},
   "outputs": [],
   "source": [
    "from selenium import webdriver\n",
    "from bs4 import BeautifulSoup\n",
    "import pandas as pd\n",
    "import itertools as it\n",
    "import requests\n",
    "import re\n",
    "from fake_useragent import UserAgent\n",
    "\n",
    "options = webdriver.ChromeOptions()\n",
    "options.add_argument('--ignore-certificate-errors')\n",
    "options.add_argument('--incognito')\n",
    "options.add_argument('--headless')\n",
    "#driver = webdriver.Chrome(\"C:\\webdrivers\", chrome_options=options)\n",
    "driver = webdriver.Chrome(executable_path=r'C:/webdrivers/chromedriver.exe')\n",
    "\n",
    "\n",
    "token = \"https://www.seloger.com/immobilier/locations/immo-paris-75/bien-appartement/?LISTING-LISTpg=\"\n",
    "\n",
    "def get_pages(token, nb):\n",
    "    pages = []\n",
    "    for i in range(1,nb+1):\n",
    "        j = token + str(i)\n",
    "        pages.append(j)\n",
    "    return pages\n",
    "\n",
    "pages = get_pages(token,2)\n",
    "\n",
    "proxies = pd.read_csv('proxy_list.txt', header = None)\n",
    "proxies = proxies.values.tolist()\n",
    "proxies = list(it.chain.from_iterable(proxies))\n",
    "\n",
    "def get_info (pages,proxies) : \n",
    "    \n",
    "    parameters = ['data-prix','data-idannonce','data-nb_chambres','data-nb_pieces','data-surface']\n",
    "    df = pd.DataFrame(columns =parameters,index=None)\n",
    "    ua = UserAgent()\n",
    "    proxy_pool = it.cycle(proxies)\n",
    "    \n",
    "    while len(pages) > 0:\n",
    "        for i in pages :\n",
    "            # on lit les pages une par une et on initialise une table vide pour ranger les données d'une page     \n",
    "                df_f = pd.DataFrame()\n",
    "            # itération dans un liste de proxies    \n",
    "                proxy = next(proxy_pool)\n",
    "\n",
    "                try :\n",
    "                    #response = requests.get(i,proxies={\"http\": proxy, \"https\": proxy}, headers={'User-Agent': ua.random},timeout=5)\n",
    "                    time.sleep(random.randrange(1,5))\n",
    "\n",
    "                    #chrome_options = change_proxy (proxy)\n",
    "                    #driver = webdriver.Chrome(options=chrome_options)\n",
    "\n",
    "                    driver.get(i)\n",
    "                    html_page = driver.page_source\n",
    "                    soup = BeautifulSoup(html_page)\n",
    "                    print(soup.prettify())\n",
    "\n",
    "                except :\n",
    "                    print(\"Erreur de connexion, prochain proxy\")\n",
    "    return df"
   ]
  },
  {
   "cell_type": "code",
   "execution_count": null,
   "metadata": {},
   "outputs": [],
   "source": [
    "df_final=get_info (pages,proxies)"
   ]
  },
  {
   "cell_type": "code",
   "execution_count": null,
   "metadata": {},
   "outputs": [],
   "source": []
  }
 ],
 "metadata": {
  "kernelspec": {
   "display_name": "Python 3",
   "language": "python",
   "name": "python3"
  },
  "language_info": {
   "codemirror_mode": {
    "name": "ipython",
    "version": 3
   },
   "file_extension": ".py",
   "mimetype": "text/x-python",
   "name": "python",
   "nbconvert_exporter": "python",
   "pygments_lexer": "ipython3",
   "version": "3.7.1"
  }
 },
 "nbformat": 4,
 "nbformat_minor": 2
}

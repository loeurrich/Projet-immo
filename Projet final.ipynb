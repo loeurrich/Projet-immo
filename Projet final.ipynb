{
 "cells": [
  {
   "cell_type": "code",
   "execution_count": 20,
   "metadata": {},
   "outputs": [
    {
     "name": "stdout",
     "output_type": "stream",
     "text": [
      "['https://www.seloger.com/immobilier/achat/bien-appartement/ile-de-france.htm?LISTING-LISTpg=1', 'https://www.seloger.com/immobilier/achat/bien-appartement/ile-de-france.htm?LISTING-LISTpg=2', 'https://www.seloger.com/immobilier/achat/bien-appartement/ile-de-france.htm?LISTING-LISTpg=3', 'https://www.seloger.com/immobilier/achat/bien-appartement/ile-de-france.htm?LISTING-LISTpg=4', 'https://www.seloger.com/immobilier/achat/bien-appartement/ile-de-france.htm?LISTING-LISTpg=5', 'https://www.seloger.com/immobilier/achat/bien-appartement/ile-de-france.htm?LISTING-LISTpg=6', 'https://www.seloger.com/immobilier/achat/bien-appartement/ile-de-france.htm?LISTING-LISTpg=7', 'https://www.seloger.com/immobilier/achat/bien-appartement/ile-de-france.htm?LISTING-LISTpg=8', 'https://www.seloger.com/immobilier/achat/bien-appartement/ile-de-france.htm?LISTING-LISTpg=9', 'https://www.seloger.com/immobilier/achat/bien-appartement/ile-de-france.htm?LISTING-LISTpg=10']\n"
     ]
    }
   ],
   "source": [
    "from selenium import webdriver\n",
    "from bs4 import BeautifulSoup\n",
    "import pandas as pd\n",
    "import itertools as it\n",
    "import requests\n",
    "import re\n",
    "from fake_useragent import UserAgent\n",
    "\n",
    "options = webdriver.ChromeOptions()\n",
    "options.add_argument('--ignore-certificate-errors')\n",
    "options.add_argument('--incognito')\n",
    "options.add_argument('--headless')\n",
    "#driver = webdriver.Chrome(\"C:\\webdrivers\", chrome_options=options)\n",
    "driver = webdriver.Chrome(executable_path=r'C:/webdrivers/chromedriver.exe')\n",
    "\n",
    "\n",
    "#token = \"https://www.seloger.com/immobilier/locations/immo-paris-75/bien-appartement/?LISTING-LISTpg=\"\n",
    "token ='https://www.seloger.com/immobilier/achat/bien-appartement/ile-de-france.htm?LISTING-LISTpg='\n",
    "\n",
    "def get_pages(token, nb):\n",
    "    pages = []\n",
    "    for i in range(1,nb+1):\n",
    "        j = token + str(i)\n",
    "        pages.append(j)\n",
    "    return pages\n",
    "\n",
    "pages = get_pages(token,10)\n",
    "print(pages)\n",
    "proxies = pd.read_csv('proxy_list.txt', header = None)\n",
    "proxies = proxies.values.tolist()\n",
    "proxies = list(it.chain.from_iterable(proxies))\n",
    "\n",
    "def get_info (pages,proxies) : \n",
    "    \n",
    "    parameters = ['data-prix','data-idannonce','data-nb_chambres','data-nb_pieces','data-surface','data-link']\n",
    "    df = pd.DataFrame(columns =parameters,index=None)\n",
    "    ua = UserAgent()\n",
    "    proxy_pool = it.cycle(proxies)\n",
    "    \n",
    "    while len(pages) > 0:\n",
    "        for i in pages :\n",
    "            \n",
    "            # itération dans un liste de proxies    \n",
    "                proxy = next(proxy_pool)\n",
    "\n",
    "                try :\n",
    "                    #response = requests.get(i,proxies={\"http\": proxy, \"https\": proxy}, headers={'User-Agent': ua.random},timeout=5)\n",
    "                    #time.sleep(random.randrange(1,5))\n",
    "\n",
    "                    #chrome_options = change_proxy (proxy)\n",
    "                    #driver = webdriver.Chrome(options=chrome_options)\n",
    "\n",
    "                    driver.get(i)\n",
    "                    \n",
    "                    html_page = driver.page_source\n",
    "                    soup = BeautifulSoup(html_page)\n",
    "                    #print(soup.prettify())\n",
    "                    \n",
    "                    \n",
    "                    for elem_prix,elem,elem_link in it.zip_longest(\\\n",
    "                                             soup.find_all('div', class_=re.compile(\"Price__Label-sc-1g9fitq-1\"))\\\n",
    "                                            ,soup.find_all('ul', class_=re.compile(\"ContentZone__Tags-wghbmy-8\"))\\\n",
    "                                            ,soup.find_all('div', class_=re.compile(\"Card__ContentZone-sc-7insep-3\"))):\n",
    "                        \n",
    "                        try :\n",
    "                            l = []\n",
    "                            info = soup.find_all ('li')\n",
    "                            info_text=elem.text\n",
    "                            if ('ch' in info_text) and ('m²' in info_text) and ('p' in info_text):\n",
    "                                \n",
    "                                \n",
    "                                temp=re.sub('\\s+', '', elem_prix.text)\n",
    "                                temp=temp.replace(\"€\",\"\")\n",
    "                                num_prix= int(temp)\n",
    "\n",
    "                                result = re.search('ch(.*)m²', info_text)\n",
    "                                num_m = result.group(1).strip()\n",
    "                                #print (\"nbre de m² : \"+num_m+'m²')\n",
    "\n",
    "                                result = re.search('p(.*)ch', info_text)\n",
    "                                num_ch = result.group(1).strip()\n",
    "                                #print (\"nbre de chambres : \"+num_ch)\n",
    "\n",
    "                                split = info_text.split(\"p\");\n",
    "                                num_piece = split[0];\n",
    "                                #print (\"nbre de pièces : \"+num_piece)\n",
    "                                \n",
    "                                link = elem_link.find('a',attrs={'name':'classified-link'})\n",
    "                                link_val=link['href']\n",
    "                                \n",
    "                                df = df.append({'data-prix': num_prix, 'data-idannonce': 0, \\\n",
    "                                                'data-nb_chambres': num_ch, 'data-nb_pieces' : num_piece,\\\n",
    "                                                'data-surface' : num_m,'data-link': link_val},ignore_index=True)\n",
    "\n",
    "                            else : \n",
    "                                \n",
    "                                print('no info')\n",
    "                        except : \n",
    "                            #print(\"data retreived fail\")\n",
    "                            pass\n",
    "    \n",
    "                    print (i)\n",
    "                    pages.remove(i)\n",
    "                    print(\"sucessufully removed\")\n",
    "                except :\n",
    "                    print(\"Erreur de connexion, prochain proxy\")\n",
    "                    \n",
    "        \n",
    "        \n",
    "    return df"
   ]
  },
  {
   "cell_type": "code",
   "execution_count": 21,
   "metadata": {},
   "outputs": [
    {
     "name": "stdout",
     "output_type": "stream",
     "text": [
      "no info\n",
      "no info\n",
      "https://www.seloger.com/immobilier/achat/bien-appartement/ile-de-france.htm?LISTING-LISTpg=1\n",
      "sucessufully removed\n",
      "https://www.seloger.com/immobilier/achat/bien-appartement/ile-de-france.htm?LISTING-LISTpg=3\n",
      "sucessufully removed\n",
      "https://www.seloger.com/immobilier/achat/bien-appartement/ile-de-france.htm?LISTING-LISTpg=5\n",
      "sucessufully removed\n",
      "https://www.seloger.com/immobilier/achat/bien-appartement/ile-de-france.htm?LISTING-LISTpg=7\n",
      "sucessufully removed\n",
      "https://www.seloger.com/immobilier/achat/bien-appartement/ile-de-france.htm?LISTING-LISTpg=9\n",
      "sucessufully removed\n",
      "no info\n",
      "no info\n",
      "no info\n",
      "https://www.seloger.com/immobilier/achat/bien-appartement/ile-de-france.htm?LISTING-LISTpg=2\n",
      "sucessufully removed\n",
      "https://www.seloger.com/immobilier/achat/bien-appartement/ile-de-france.htm?LISTING-LISTpg=6\n",
      "sucessufully removed\n",
      "no info\n",
      "https://www.seloger.com/immobilier/achat/bien-appartement/ile-de-france.htm?LISTING-LISTpg=10\n",
      "sucessufully removed\n",
      "no info\n",
      "no info\n",
      "https://www.seloger.com/immobilier/achat/bien-appartement/ile-de-france.htm?LISTING-LISTpg=4\n",
      "sucessufully removed\n",
      "no info\n",
      "https://www.seloger.com/immobilier/achat/bien-appartement/ile-de-france.htm?LISTING-LISTpg=8\n",
      "sucessufully removed\n"
     ]
    }
   ],
   "source": [
    "df_final=get_info (pages,proxies)"
   ]
  },
  {
   "cell_type": "code",
   "execution_count": 22,
   "metadata": {},
   "outputs": [
    {
     "data": {
      "text/plain": [
       "236"
      ]
     },
     "execution_count": 22,
     "metadata": {},
     "output_type": "execute_result"
    }
   ],
   "source": [
    "len (df_final)"
   ]
  },
  {
   "cell_type": "code",
   "execution_count": 23,
   "metadata": {},
   "outputs": [
    {
     "data": {
      "text/html": [
       "<div>\n",
       "<style scoped>\n",
       "    .dataframe tbody tr th:only-of-type {\n",
       "        vertical-align: middle;\n",
       "    }\n",
       "\n",
       "    .dataframe tbody tr th {\n",
       "        vertical-align: top;\n",
       "    }\n",
       "\n",
       "    .dataframe thead th {\n",
       "        text-align: right;\n",
       "    }\n",
       "</style>\n",
       "<table border=\"1\" class=\"dataframe\">\n",
       "  <thead>\n",
       "    <tr style=\"text-align: right;\">\n",
       "      <th></th>\n",
       "      <th>data-prix</th>\n",
       "      <th>data-idannonce</th>\n",
       "      <th>data-nb_chambres</th>\n",
       "      <th>data-nb_pieces</th>\n",
       "      <th>data-surface</th>\n",
       "      <th>data-link</th>\n",
       "    </tr>\n",
       "  </thead>\n",
       "  <tbody>\n",
       "    <tr>\n",
       "      <th>0</th>\n",
       "      <td>798000</td>\n",
       "      <td>0</td>\n",
       "      <td>3</td>\n",
       "      <td>5</td>\n",
       "      <td>102</td>\n",
       "      <td>https://www.seloger.com/annonces/achat/apparte...</td>\n",
       "    </tr>\n",
       "    <tr>\n",
       "      <th>1</th>\n",
       "      <td>664000</td>\n",
       "      <td>0</td>\n",
       "      <td>2</td>\n",
       "      <td>3</td>\n",
       "      <td>75</td>\n",
       "      <td>https://www.seloger.com/annonces/achat/apparte...</td>\n",
       "    </tr>\n",
       "    <tr>\n",
       "      <th>2</th>\n",
       "      <td>577000</td>\n",
       "      <td>0</td>\n",
       "      <td>2</td>\n",
       "      <td>4</td>\n",
       "      <td>84</td>\n",
       "      <td>https://www.seloger.com/annonces/achat/apparte...</td>\n",
       "    </tr>\n",
       "    <tr>\n",
       "      <th>3</th>\n",
       "      <td>640000</td>\n",
       "      <td>0</td>\n",
       "      <td>1</td>\n",
       "      <td>3</td>\n",
       "      <td>53</td>\n",
       "      <td>https://www.seloger.com/annonces/achat/apparte...</td>\n",
       "    </tr>\n",
       "    <tr>\n",
       "      <th>4</th>\n",
       "      <td>350000</td>\n",
       "      <td>0</td>\n",
       "      <td>1</td>\n",
       "      <td>2</td>\n",
       "      <td>22,3</td>\n",
       "      <td>https://www.seloger.com/annonces/achat/apparte...</td>\n",
       "    </tr>\n",
       "  </tbody>\n",
       "</table>\n",
       "</div>"
      ],
      "text/plain": [
       "  data-prix data-idannonce data-nb_chambres data-nb_pieces data-surface  \\\n",
       "0    798000              0                3             5           102   \n",
       "1    664000              0                2             3            75   \n",
       "2    577000              0                2             4            84   \n",
       "3    640000              0                1             3            53   \n",
       "4    350000              0                1             2          22,3   \n",
       "\n",
       "                                           data-link  \n",
       "0  https://www.seloger.com/annonces/achat/apparte...  \n",
       "1  https://www.seloger.com/annonces/achat/apparte...  \n",
       "2  https://www.seloger.com/annonces/achat/apparte...  \n",
       "3  https://www.seloger.com/annonces/achat/apparte...  \n",
       "4  https://www.seloger.com/annonces/achat/apparte...  "
      ]
     },
     "execution_count": 23,
     "metadata": {},
     "output_type": "execute_result"
    }
   ],
   "source": [
    "df_final.head()"
   ]
  },
  {
   "cell_type": "code",
   "execution_count": 24,
   "metadata": {},
   "outputs": [
    {
     "name": "stdout",
     "output_type": "stream",
     "text": [
      "2020-05-21 01-37-09-992451\n"
     ]
    }
   ],
   "source": [
    "import datetime\n",
    "\n",
    "now = datetime.datetime.now()\n",
    "str_now  = str(now).replace (\":\",\"-\")\n",
    "str_now  = str_now.replace (\".\",\"-\")\n",
    "print (str_now)\n",
    "df_final.to_csv(\"achat-\"+str_now+\".csv\",index=False,sep=';')"
   ]
  },
  {
   "cell_type": "code",
   "execution_count": 30,
   "metadata": {},
   "outputs": [
    {
     "name": "stdout",
     "output_type": "stream",
     "text": [
      "3101€\n",
      "3101\n",
      "3101\n",
      "3101.0\n"
     ]
    }
   ],
   "source": []
  },
  {
   "cell_type": "code",
   "execution_count": null,
   "metadata": {},
   "outputs": [],
   "source": []
  }
 ],
 "metadata": {
  "kernelspec": {
   "display_name": "Python 3",
   "language": "python",
   "name": "python3"
  },
  "language_info": {
   "codemirror_mode": {
    "name": "ipython",
    "version": 3
   },
   "file_extension": ".py",
   "mimetype": "text/x-python",
   "name": "python",
   "nbconvert_exporter": "python",
   "pygments_lexer": "ipython3",
   "version": "3.7.1"
  }
 },
 "nbformat": 4,
 "nbformat_minor": 2
}
